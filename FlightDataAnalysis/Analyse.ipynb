{
 "cells": [
  {
   "cell_type": "code",
   "execution_count": 4,
   "id": "fa847207",
   "metadata": {},
   "outputs": [],
   "source": [
    "from zipfile import ZipFile\n",
    "import pandas as pd\n",
    "\n",
    "dirname = \"On_Time_Reporting_Carrier_On_Time_Performance_1987_present_2023_1\"\n",
    "with ZipFile('data/'+dirname+'.zip') as myzip:\n",
    "    with myzip.open('On_Time_Reporting_Carrier_On_Time_Performance_(1987_present)_2023_1.csv') as myfile1:\n",
    "        dfNum = pd.read_table(myfile1,delimiter=\"\\t\", low_memory=False)\n"
   ]
  },
  {
   "cell_type": "code",
   "execution_count": null,
   "id": "3ddcb703",
   "metadata": {},
   "outputs": [],
   "source": []
  }
 ],
 "metadata": {
  "kernelspec": {
   "display_name": "Python 3 (ipykernel)",
   "language": "python",
   "name": "python3"
  },
  "language_info": {
   "codemirror_mode": {
    "name": "ipython",
    "version": 3
   },
   "file_extension": ".py",
   "mimetype": "text/x-python",
   "name": "python",
   "nbconvert_exporter": "python",
   "pygments_lexer": "ipython3",
   "version": "3.10.9"
  }
 },
 "nbformat": 4,
 "nbformat_minor": 5
}

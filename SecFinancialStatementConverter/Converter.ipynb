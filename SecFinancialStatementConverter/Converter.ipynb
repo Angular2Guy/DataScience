{
 "cells": [
  {
   "cell_type": "markdown",
   "id": "da0377c3",
   "metadata": {},
   "source": [
    "Converter for the Financial Filings at the Sec"
   ]
  },
  {
   "cell_type": "code",
   "execution_count": 6,
   "id": "2dd49412",
   "metadata": {},
   "outputs": [
    {
     "name": "stderr",
     "output_type": "stream",
     "text": [
      "IOPub data rate exceeded.\n",
      "The notebook server will temporarily stop sending output\n",
      "to the client in order to avoid crashing it.\n",
      "To change this limit, set the config variable\n",
      "`--NotebookApp.iopub_data_rate_limit`.\n",
      "\n",
      "Current values:\n",
      "NotebookApp.iopub_data_rate_limit=1000000.0 (bytes/sec)\n",
      "NotebookApp.rate_limit_window=3.0 (secs)\n",
      "\n"
     ]
    }
   ],
   "source": [
    "from zipfile import ZipFile\n",
    "\n",
    "with ZipFile('importFiles/2010q1.zip') as myzip:\n",
    "    with myzip.open('num.txt') as myfile:\n",
    "        print(myfile.read())\n",
    "    with myzip.open('pre.txt') as myfile:\n",
    "        print(myfile.read())\n",
    "    with myzip.open('sub.txt') as myfile:\n",
    "        print(myfile.read())\n",
    "    with myzip.open('tag.txt') as myfile:\n",
    "        print(myfile.read())"
   ]
  },
  {
   "cell_type": "code",
   "execution_count": null,
   "id": "718b6a0e",
   "metadata": {},
   "outputs": [],
   "source": []
  }
 ],
 "metadata": {
  "kernelspec": {
   "display_name": "Python 3 (ipykernel)",
   "language": "python",
   "name": "python3"
  },
  "language_info": {
   "codemirror_mode": {
    "name": "ipython",
    "version": 3
   },
   "file_extension": ".py",
   "mimetype": "text/x-python",
   "name": "python",
   "nbconvert_exporter": "python",
   "pygments_lexer": "ipython3",
   "version": "3.10.9"
  }
 },
 "nbformat": 4,
 "nbformat_minor": 5
}
